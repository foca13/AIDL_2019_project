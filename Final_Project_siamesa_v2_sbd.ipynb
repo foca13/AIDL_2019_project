{
  "nbformat": 4,
  "nbformat_minor": 0,
  "metadata": {
    "colab": {
      "name": "Final Project siamesa_v2_sbd.ipynb",
      "version": "0.3.2",
      "provenance": [],
      "collapsed_sections": []
    },
    "kernelspec": {
      "name": "python3",
      "display_name": "Python 3"
    },
    "accelerator": "GPU"
  },
  "cells": [
    {
      "cell_type": "code",
      "metadata": {
        "id": "nwQ4Nmxgcmri",
        "colab_type": "code",
        "colab": {}
      },
      "source": [
        "import argparse\n",
        "import torch\n",
        "torch.manual_seed(0)\n",
        "from torch import optim\n",
        "from torchvision import transforms\n",
        "import os\n",
        "import os.path as osp\n",
        "from PIL import Image\n",
        "import PIL"
      ],
      "execution_count": 0,
      "outputs": []
    },
    {
      "cell_type": "markdown",
      "metadata": {
        "id": "8EAo5WN-79ds",
        "colab_type": "text"
      },
      "source": [
        "ACCESS TO THE DRIVE FOLDER WHERE THE DATASET HAS BEEN STORED"
      ]
    },
    {
      "cell_type": "code",
      "metadata": {
        "id": "HLucYq9Loxgb",
        "colab_type": "code",
        "outputId": "511f925d-ced1-4aea-d6f8-7f0910539f7e",
        "colab": {
          "base_uri": "https://localhost:8080/",
          "height": 122
        }
      },
      "source": [
        "from google.colab import drive\n",
        "\n",
        "drive.mount('/content/gdrive')\n",
        "root_path = 'gdrive/My Drive/Final project AIDL/'  #change dir to your project folder"
      ],
      "execution_count": 2,
      "outputs": [
        {
          "output_type": "stream",
          "text": [
            "Go to this URL in a browser: https://accounts.google.com/o/oauth2/auth?client_id=947318989803-6bn6qk8qdgf4n4g3pfee6491hc0brc4i.apps.googleusercontent.com&redirect_uri=urn%3Aietf%3Awg%3Aoauth%3A2.0%3Aoob&scope=email%20https%3A%2F%2Fwww.googleapis.com%2Fauth%2Fdocs.test%20https%3A%2F%2Fwww.googleapis.com%2Fauth%2Fdrive%20https%3A%2F%2Fwww.googleapis.com%2Fauth%2Fdrive.photos.readonly%20https%3A%2F%2Fwww.googleapis.com%2Fauth%2Fpeopleapi.readonly&response_type=code\n",
            "\n",
            "Enter your authorization code:\n",
            "··········\n",
            "Mounted at /content/gdrive\n"
          ],
          "name": "stdout"
        }
      ]
    },
    {
      "cell_type": "markdown",
      "metadata": {
        "id": "wHn2r5ERptEg",
        "colab_type": "text"
      },
      "source": [
        "DEFINE ARGUMENTS"
      ]
    },
    {
      "cell_type": "code",
      "metadata": {
        "id": "qdqM3jDv9VTI",
        "colab_type": "code",
        "colab": {}
      },
      "source": [
        "class Args:\n",
        "\n",
        "    frontal_images_directories = \"gdrive/My Drive/Final project AIDL/dataset-cfp/Protocol/image_list_F.txt\"\n",
        "    profile_images_directories = \"gdrive/My Drive/Final project AIDL/dataset-cfp/Protocol/image_list_P.txt\"\n",
        "    split_main_directory = \"gdrive/My Drive/Final project AIDL/dataset-cfp/Protocol/Split\"\n",
        "    split_traindata = [\"01\", \"02\", \"03\", \"04\", \"05\", \"06\"]\n",
        "    split_valdata = [\"07\", \"08\"]\n",
        "    split_testdata = [\"09\", \"10\"]\n",
        "    dataset_root = \"gdrive/My Drive/Final project AIDL\"\n",
        "    dataset= \"CFPDataset\"\n",
        "    lr = float(5e-4)\n",
        "    weight_decay = float(0.0005)\n",
        "    momentum = float(0.9)\n",
        "    batch_size = int(16)\n",
        "    workers = int(8)\n",
        "    start_epoch = int(0)\n",
        "    epochs = int(20)\n",
        "    save_every = int(2)\n",
        "    resume = \"\"\n"
      ],
      "execution_count": 0,
      "outputs": []
    },
    {
      "cell_type": "markdown",
      "metadata": {
        "id": "bHNIGrMcpw6C",
        "colab_type": "text"
      },
      "source": [
        "LOAD DATASET"
      ]
    },
    {
      "cell_type": "code",
      "metadata": {
        "id": "b_gAtqmHsofp",
        "colab_type": "code",
        "colab": {}
      },
      "source": [
        "import numpy as np\n",
        "import torch\n",
        "import torchvision\n",
        "import os.path as osp\n",
        "from pathlib import Path\n",
        "from torch.utils.data import dataset\n",
        "from PIL import Image\n",
        "\n",
        "\n",
        "class CFPDataset(dataset.Dataset):\n",
        "    def __init__(self, path, args, img_transforms=None, dataset_root=\"\",\n",
        "                 split=\"train\", input_size=(224, 224)):\n",
        "        super().__init__()\n",
        "\n",
        "        self.data = []\n",
        "        self.split = split\n",
        "\n",
        "        self.load(path, args)\n",
        "\n",
        "        print(\"Dataset loaded\")\n",
        "        print(\"{0} samples in the {1} dataset\".format(len(self.data),\n",
        "                                                      self.split))\n",
        "        self.transforms = img_transforms\n",
        "        self.dataset_root = dataset_root\n",
        "        self.input_size = input_size\n",
        "\n",
        "    def load(self, path, args):\n",
        "\n",
        "        # read directories for frontal images\n",
        "        lines = open(args.frontal_images_directories).readlines()\n",
        "        idx = 0\n",
        "        directories_frontal_images = []\n",
        "        while idx < len(lines):\n",
        "            x = lines[idx].strip().split()\n",
        "            directories_frontal_images.append(x)\n",
        "            idx += 1\n",
        "\n",
        "        # read directories for profile images\n",
        "        lines = open(args.profile_images_directories).readlines()\n",
        "        idx = 0\n",
        "        directories_profile_images = []\n",
        "        while idx < len(lines):\n",
        "            x = lines[idx].strip().split()\n",
        "            directories_profile_images.append(x)\n",
        "            idx += 1\n",
        "\n",
        "        # read same and different pairs of images and save at dictionary\n",
        "        self.data = []\n",
        "        for i in path:\n",
        "            ff_diff_file = osp.join(args.split_main_directory, 'FF', i,\n",
        "                                    'diff.txt')\n",
        "            lines = open(ff_diff_file).readlines()\n",
        "            idx = 0\n",
        "            while idx < int(len(lines)/1):\n",
        "                img_pair = lines[idx].strip().split(',')\n",
        "                img1_dir = directories_frontal_images[int(img_pair[0])][1]\n",
        "                img2_dir = directories_frontal_images[int(img_pair[1])][1]\n",
        "                pair_tag = 0.0\n",
        "                d = {\n",
        "                    \"img1_path\": img1_dir,\n",
        "                    \"img2_path\": img2_dir,\n",
        "                    \"pair_tag\": pair_tag\n",
        "                }\n",
        "                self.data.append(d)\n",
        "                idx += 1\n",
        "\n",
        "            ff_same_file = osp.join(args.split_main_directory, 'FF', i,\n",
        "                                    'same.txt')\n",
        "            lines = open(ff_same_file).readlines()\n",
        "            idx = 0\n",
        "            while idx < int(len(lines)/1):\n",
        "                img_pair = lines[idx].strip().split(',')\n",
        "                img1_dir = directories_frontal_images[int(img_pair[0])][1]\n",
        "                img2_dir = directories_frontal_images[int(img_pair[1])][1]\n",
        "                pair_tag = 1.0\n",
        "                d = {\n",
        "                    \"img1_path\": img1_dir,\n",
        "                    \"img2_path\": img2_dir,\n",
        "                    \"pair_tag\": pair_tag\n",
        "                }\n",
        "                self.data.append(d)\n",
        "                idx += 1\n",
        "\n",
        "            fp_diff_file = osp.join(args.split_main_directory, 'FP', i,\n",
        "                                    'diff.txt')\n",
        "            lines = open(fp_diff_file).readlines()\n",
        "            idx = 0\n",
        "            while idx < int(len(lines)/1):\n",
        "                img_pair = lines[idx].strip().split(',')\n",
        "                img1_dir = directories_frontal_images[int(img_pair[0])][1]\n",
        "                img2_dir = directories_profile_images[int(img_pair[1])][1]\n",
        "                pair_tag = 0.0\n",
        "                d = {\n",
        "                    \"img1_path\": img1_dir,\n",
        "                    \"img2_path\": img2_dir,\n",
        "                    \"pair_tag\": pair_tag\n",
        "                }\n",
        "                self.data.append(d)\n",
        "                idx += 1\n",
        "\n",
        "            fp_same_file = osp.join(args.split_main_directory, 'FP', i,\n",
        "                                    'same.txt')\n",
        "            lines = open(fp_same_file).readlines()\n",
        "            idx = 0\n",
        "            while idx < int(len(lines)/1):\n",
        "                img_pair = lines[idx].strip().split(',')\n",
        "                img1_dir = directories_frontal_images[int(img_pair[0])][1]\n",
        "                img2_dir = directories_profile_images[int(img_pair[1])][1]\n",
        "                pair_tag = 1.0\n",
        "                d = {\n",
        "                    \"img1_path\": img1_dir,\n",
        "                    \"img2_path\": img2_dir,\n",
        "                    \"pair_tag\": pair_tag\n",
        "                }\n",
        "                self.data.append(d)\n",
        "                idx += 1\n",
        "\n",
        "    def __len__(self):\n",
        "        return len(self.data)\n",
        "\n",
        "    def __getitem__(self, index):\n",
        "        d = self.data[index]\n",
        "        image1_path = osp.join(self.dataset_root, 'dataset-cfp', d[\n",
        "            'img1_path'])\n",
        "        image2_path = osp.join(self.dataset_root, 'dataset-cfp', d[\n",
        "            'img2_path'])\n",
        "        image1 = Image.open(image1_path).convert('RGB')\n",
        "        image2 = Image.open(image2_path).convert('RGB')\n",
        "        tag = d['pair_tag']\n",
        "        if self.transforms is not None:\n",
        "            # this converts from (HxWxC) to (CxHxW) as wel\n",
        "            img1 = self.transforms(image1)\n",
        "            img2 = self.transforms(image2)\n",
        "\n",
        "        return img1, img2, tag"
      ],
      "execution_count": 0,
      "outputs": []
    },
    {
      "cell_type": "code",
      "metadata": {
        "id": "OYIFlDuZpiAR",
        "colab_type": "code",
        "colab": {}
      },
      "source": [
        "from torch.utils import data\n",
        "\n",
        "def get_dataloader(datapath, args, img_transforms=None, split=\"train\"):\n",
        "\n",
        "    data_loader = data.DataLoader(CFPDataset(datapath,\n",
        "                                             args,\n",
        "                                             split=split,\n",
        "                                             img_transforms=img_transforms,\n",
        "                                             dataset_root=osp.expanduser(\n",
        "                                                 args.dataset_root)),\n",
        "                                  batch_size=args.batch_size,\n",
        "                                  shuffle=True,    \n",
        "                                  num_workers=args.workers,\n",
        "                                  pin_memory=True,\n",
        "                                  drop_last=True)\n",
        "    return data_loader"
      ],
      "execution_count": 0,
      "outputs": []
    },
    {
      "cell_type": "markdown",
      "metadata": {
        "id": "wOTmj-LtqZnX",
        "colab_type": "text"
      },
      "source": [
        "MODEL"
      ]
    },
    {
      "cell_type": "code",
      "metadata": {
        "id": "OboRfyRMqbP8",
        "colab_type": "code",
        "colab": {}
      },
      "source": [
        "import torch\n",
        "from torch import nn\n",
        "from torchvision.models import vgg16_bn\n",
        "\n",
        "\n",
        "class RecognitionModel(nn.Module):\n",
        "    \"\"\"\n",
        "    Siamese network\n",
        "    \"\"\"\n",
        "    def __init__(self):\n",
        "        super().__init__()\n",
        "\n",
        "        self.feat = vgg16_bn(pretrained=True).features\n",
        "        self.fc1 = nn.Sequential(\n",
        "            nn.Linear(in_features=512*7*7*2, out_features=4096),\n",
        "            nn.ReLU(True),\n",
        "            nn.Dropout()\n",
        "        )\n",
        "        self.fc2 = nn.Linear(in_features=4096, out_features=2)\n",
        "\n",
        "    def forward(self, img1, img2):\n",
        "        # the input to the vgg16 is a fixed-size 224x224 RGB image\n",
        "        # we get the vgg16 features\n",
        "        #print(img1.size(), img2.size())\n",
        "        feat_1 = self.feat(img1)\n",
        "        feat_2 = self.feat(img2)\n",
        "        #print(feat_1.size(), feat_2.size())\n",
        "        feat_1 = feat_1.view(feat_1.size(0), -1)\n",
        "        feat_2 = feat_2.view(feat_2.size(0), -1)\n",
        "        #print(feat_1.size(), feat_2.size())\n",
        "        # we concatenate the two tensors of features\n",
        "        feat = torch.cat((feat_1, feat_2), 1)\n",
        "        #print(feat.size())\n",
        "        # we run the classifier\n",
        "        feat_3 = self.fc1(feat)\n",
        "        #print(feat_3.size)\n",
        "        tag = self.fc2(feat_3)\n",
        "        #print(tag)\n",
        "        return tag\n"
      ],
      "execution_count": 0,
      "outputs": []
    },
    {
      "cell_type": "markdown",
      "metadata": {
        "id": "I7A5_ZZdqf8Z",
        "colab_type": "text"
      },
      "source": [
        "LOSS"
      ]
    },
    {
      "cell_type": "code",
      "metadata": {
        "id": "VLLRaLvFqit5",
        "colab_type": "code",
        "colab": {}
      },
      "source": [
        "from torch import nn\n",
        "\n",
        "class RecognitionCriterion(nn.Module):\n",
        "    def __init__(self):\n",
        "        super().__init__()\n",
        "        self.classification_criterion = nn.CrossEntropyLoss()\n",
        "        self.cls_loss = None\n",
        "\n",
        "    def forward(self, *input):\n",
        "        self.cls_loss = self.classification_criterion(*input)\n",
        "        return self.cls_loss"
      ],
      "execution_count": 0,
      "outputs": []
    },
    {
      "cell_type": "markdown",
      "metadata": {
        "id": "8c_WD2OCqnYa",
        "colab_type": "text"
      },
      "source": [
        "TRAINING AND VALIDATION"
      ]
    },
    {
      "cell_type": "code",
      "metadata": {
        "id": "8c-eqydZqtKz",
        "colab_type": "code",
        "colab": {}
      },
      "source": [
        "import torch\n",
        "from torchvision import transforms\n",
        "from torch.nn import functional as nnfunc\n",
        "import numpy as np\n",
        "\n",
        "def accuracy(predictions, y):\n",
        "    correct = 0\n",
        "    total = 0\n",
        "    preds = torch.topk(predictions, k=1)\n",
        "    for p, i, label in zip(preds[0], preds[1], y):\n",
        "        #print(p, i, label)\n",
        "        total += 1\n",
        "        if i == 1 and label == 1:\n",
        "            correct += 1\n",
        "        if i == 0 and label == 0:\n",
        "            correct += 1\n",
        "    return correct/total\n",
        "\n",
        "def train(model, loss_fn, optimizer, dataloader, epoch, device):\n",
        "    model = model.to(device)\n",
        "    model.train()\n",
        "    all_loss = []\n",
        "    all_acc = []\n",
        "        \n",
        "    for idx, (img1, img2, prob) in enumerate(dataloader):\n",
        "        x1 = img1.float().to(device)\n",
        "        x2 = img2.float().to(device)\n",
        "        optimizer.zero_grad()\n",
        "        prob_t = prob.to(torch.long)\n",
        "        #prob_t = prob.type(torch.FloatTensor)\n",
        "        prob_var = prob_t.to(device)\n",
        "        #prob_var = prob.to(device)\n",
        "        #prob_var = prob_var.unsqueeze(dim=1)\n",
        "        #print(prob_var.size())\n",
        "        #print(prob_var)\n",
        "        \n",
        "        output = model(x1, x2)\n",
        "        #output = output.reshape(1, -1)\n",
        "        #output = output.squeeze()\n",
        "        #print(output.size())\n",
        "        #print(output)\n",
        "        \n",
        "        loss = loss_fn(output, prob_var)\n",
        "        all_loss.append(loss.item())\n",
        "        acc = accuracy(output, prob_var)\n",
        "        all_acc.append(acc) \n",
        "        \n",
        "        loss.backward()\n",
        "        optimizer.step()\n",
        "        \n",
        "            \n",
        "        if idx % 14 == 0:\n",
        "            message1 = \"TRAIN Epoch [{0}]: [{1}/{2}] \".format(epoch, idx,\n",
        "                                                              len(dataloader))\n",
        "            message2 = \"Loss: [{0:.4f}]; Accuracy: [{1}]\".format(loss.item(),\n",
        "                                                                acc)\n",
        "            print(message1, message2)\n",
        "    \n",
        "    return all_loss, all_acc\n",
        "\n",
        "def val(model, loss_fn, dataloader, epoch, device):\n",
        "    model = model.to(device)\n",
        "    all_loss = []\n",
        "    all_acc =[]\n",
        "    \n",
        "    for idx, (img1, img2, prob) in enumerate(dataloader):\n",
        "        x1 = img1.float().to(device)\n",
        "        x2 = img2.float().to(device)\n",
        "        \n",
        "        prob_t = prob.to(torch.long)\n",
        "        #prob_t = prob.type(torch.FloatTensor)\n",
        "        prob_var = prob_t.to(device)\n",
        "        # prob_var = prob.to(device)\n",
        "        #prob_var = prob_var.unsqueeze(dim=1)\n",
        "        #print(prob_var.size())\n",
        "        #print(prob_var)\n",
        "        output = model(x1, x2)\n",
        "        #output = output.reshape(1, -1)\n",
        "        #output = output.squeeze()\n",
        "        #print(output.size())\n",
        "        #print(output)\n",
        "        loss = loss_fn(output, prob_var)\n",
        "        acc = accuracy(output, prob_var)\n",
        "        all_loss.append(loss.item())\n",
        "        all_acc.append(acc)\n",
        "                \n",
        "        #print_state(idx, epoch, len(dataloader), loss_fn.cls_loss, split=\"val\")\n",
        "        if idx % 14 == 0:\n",
        "            message1 = \"VAL Epoch [{0}]: [{1}/{2}] \".format(epoch, idx,\n",
        "                                                              len(dataloader))\n",
        "            message2 = \"Loss: [{0:.4f}]; Accuracy: [{1}]\".format(loss.item(), acc)\n",
        "            print(message1, message2)\n",
        "    return all_loss, all_acc"
      ],
      "execution_count": 0,
      "outputs": []
    },
    {
      "cell_type": "code",
      "metadata": {
        "id": "8iZoeeWM9umb",
        "colab_type": "code",
        "colab": {}
      },
      "source": [
        "args = Args()\n",
        "data_aug = True\n",
        "train_transform=None\n",
        "if data_aug == False:\n",
        "  train_transform = transforms.Compose([transforms.Resize((224, 224)), transforms.ToTensor()])\n",
        "\n",
        "else:\n",
        "  train_transform = transforms.Compose([transforms.Resize((224, 224)), \n",
        "                                        transforms.RandomHorizontalFlip(), \n",
        "                                        transforms.RandomRotation(20, resample=PIL.Image.BILINEAR), \n",
        "                                        transforms.ToTensor()])\n",
        "\n",
        "img_transforms = train_transform\n"
      ],
      "execution_count": 0,
      "outputs": []
    },
    {
      "cell_type": "code",
      "metadata": {
        "id": "yGzZEm6j94ML",
        "colab_type": "code",
        "outputId": "8740116a-a358-4c73-bc08-3f9981fcc8c4",
        "colab": {
          "base_uri": "https://localhost:8080/",
          "height": 51
        }
      },
      "source": [
        "train_loader = get_dataloader(args.split_traindata, args,\n",
        "                              img_transforms=img_transforms)"
      ],
      "execution_count": 10,
      "outputs": [
        {
          "output_type": "stream",
          "text": [
            "Dataset loaded\n",
            "8400 samples in the train dataset\n"
          ],
          "name": "stdout"
        }
      ]
    },
    {
      "cell_type": "code",
      "metadata": {
        "id": "FKQgt_NDrA5L",
        "colab_type": "code",
        "outputId": "743d4818-0a30-4840-ec19-deb95b1e235c",
        "colab": {
          "base_uri": "https://localhost:8080/",
          "height": 51
        }
      },
      "source": [
        "val_loader = get_dataloader(args.split_valdata, args,\n",
        "                            img_transforms=img_transforms, split=\"val\")"
      ],
      "execution_count": 11,
      "outputs": [
        {
          "output_type": "stream",
          "text": [
            "Dataset loaded\n",
            "2800 samples in the val dataset\n"
          ],
          "name": "stdout"
        }
      ]
    },
    {
      "cell_type": "code",
      "metadata": {
        "id": "XXQ2coX6-Z_0",
        "colab_type": "code",
        "outputId": "0dee2d71-6e47-4359-967b-f88c76b4e679",
        "colab": {
          "base_uri": "https://localhost:8080/",
          "height": 51
        }
      },
      "source": [
        "model = RecognitionModel()\n",
        "loss_fn = RecognitionCriterion()"
      ],
      "execution_count": 12,
      "outputs": [
        {
          "output_type": "stream",
          "text": [
            "Downloading: \"https://download.pytorch.org/models/vgg16_bn-6c64b313.pth\" to /root/.cache/torch/checkpoints/vgg16_bn-6c64b313.pth\n",
            "100%|██████████| 553507836/553507836 [00:24<00:00, 22524260.99it/s]\n"
          ],
          "name": "stderr"
        }
      ]
    },
    {
      "cell_type": "code",
      "metadata": {
        "id": "s0rOSRuG-mci",
        "colab_type": "code",
        "colab": {}
      },
      "source": [
        "# directory where we'll store model weights\n",
        "weights_dir = \"weights\"\n",
        "if not osp.exists(weights_dir):\n",
        "  \n",
        "    os.mkdir(weights_dir)"
      ],
      "execution_count": 0,
      "outputs": []
    },
    {
      "cell_type": "code",
      "metadata": {
        "id": "NJU0i3PpLAHm",
        "colab_type": "code",
        "outputId": "5da918b8-21ac-4548-cb88-07676632acd5",
        "colab": {
          "base_uri": "https://localhost:8080/",
          "height": 34
        }
      },
      "source": [
        "torch.cuda.is_available()"
      ],
      "execution_count": 14,
      "outputs": [
        {
          "output_type": "execute_result",
          "data": {
            "text/plain": [
              "True"
            ]
          },
          "metadata": {
            "tags": []
          },
          "execution_count": 14
        }
      ]
    },
    {
      "cell_type": "code",
      "metadata": {
        "id": "X8NbSOen-wOy",
        "colab_type": "code",
        "colab": {}
      },
      "source": [
        "# check for CUDA\n",
        "if torch.cuda.is_available():\n",
        "    device = torch.device('cuda:0')\n",
        "else:\n",
        "    device = torch.device('cpu')"
      ],
      "execution_count": 0,
      "outputs": []
    },
    {
      "cell_type": "code",
      "metadata": {
        "id": "kRW8oa-H-3gT",
        "colab_type": "code",
        "colab": {}
      },
      "source": [
        "optimizer = optim.SGD(model.parameters(), lr=args.lr,\n",
        "                      momentum=args.momentum, weight_decay=args.weight_decay)"
      ],
      "execution_count": 0,
      "outputs": []
    },
    {
      "cell_type": "code",
      "metadata": {
        "id": "WAS5FOei-8T1",
        "colab_type": "code",
        "colab": {}
      },
      "source": [
        "#if args.resume:\n",
        "#    checkpoint = torch.load(args.resume)\n",
        "#    model.load_state_dict(checkpoint['model'])\n",
        "#    optimizer.load_state_dict(checkpoint['optimizer'])\n",
        "#    # Set the start epoch if it has not been\n",
        "#    if not args.start_epoch:\n",
        "#        args.start_epoch = checkpoint['epoch']\n",
        "#\n",
        "#def save_checkpoint(state, filename=\"checkpoint.pth\", save_path=\"weights\"):\n",
        "#    # check if the save directory exists\n",
        "#    if not Path(save_path).exists():\n",
        "#        Path(save_path).mkdir()\n",
        "#\n",
        "#    save_path = Path(save_path, filename)\n",
        "#    torch.save(state, str(save_path))"
      ],
      "execution_count": 0,
      "outputs": []
    },
    {
      "cell_type": "code",
      "metadata": {
        "id": "UCo_88qumGSj",
        "colab_type": "code",
        "colab": {
          "base_uri": "https://localhost:8080/",
          "height": 34
        },
        "outputId": "5ac5aa57-fd73-478d-a06d-a5f6f5eb0b34"
      },
      "source": [
        "!ls"
      ],
      "execution_count": 29,
      "outputs": [
        {
          "output_type": "stream",
          "text": [
            "best_epoch.pth.tar  gdrive  sample_data  weights\n"
          ],
          "name": "stdout"
        }
      ]
    },
    {
      "cell_type": "code",
      "metadata": {
        "id": "FHwvDkqP6IM6",
        "colab_type": "code",
        "colab": {
          "base_uri": "https://localhost:8080/",
          "height": 34
        },
        "outputId": "23bde28d-5606-4d44-b2e1-4d614fd6f78f"
      },
      "source": [
        "print(args.epochs)"
      ],
      "execution_count": 32,
      "outputs": [
        {
          "output_type": "stream",
          "text": [
            "20\n"
          ],
          "name": "stdout"
        }
      ]
    },
    {
      "cell_type": "code",
      "metadata": {
        "id": "E0ddySP2_DPR",
        "colab_type": "code",
        "outputId": "9961fa71-4dec-4851-c8f2-5ef26a66339e",
        "colab": {
          "base_uri": "https://localhost:8080/",
          "height": 663
        }
      },
      "source": [
        "check_point_name = 'best_epoch.pth.tar'\n",
        "# train and evalute for `epochs`\n",
        "loss_epoch_train = []\n",
        "loss_epoch_val = []\n",
        "acc_epoch_train = []\n",
        "acc_epoch_val = []\n",
        "best_acc = 0\n",
        "for epoch in range(args.start_epoch, args.epochs):\n",
        "    # scheduler.step()\n",
        "    train_loss, train_acc = train(model, loss_fn, optimizer, train_loader, epoch, device=device)\n",
        "    \n",
        "    av_loss = np.mean(train_loss)\n",
        "    av_acc = np.mean(train_acc)\n",
        "    loss_epoch_train.append(av_loss)\n",
        "    acc_epoch_train.append(av_acc)\n",
        "    \n",
        "    #if (epoch + 1) % args.save_every == 0:\n",
        "    #   save_checkpoint({\n",
        "    #        'epoch': epoch + 1,\n",
        "    #        'batch_size': train_loader.batch_size,\n",
        "    #        'model': model.state_dict(),\n",
        "    #        'optimizer': optimizer.state_dict()\n",
        "    #     }, filename=\"checkpoint_{0}.pth\".format(epoch + 1),\n",
        "    #         save_path=weights_dir)\n",
        "    \n",
        "    val_loss, val_acc = val(model, loss_fn, val_loader, epoch, device=device)\n",
        "    best=max(val_acc)\n",
        "    if best > best_acc:\n",
        "        best_acc = best\n",
        "        best_epoch=epoch\n",
        "        \n",
        "        checkpoint = {\n",
        "            'epoch': epoch,\n",
        "            'batch_size': train_loader.batch_size,\n",
        "            'model': model.state_dict(),\n",
        "            'optimizer': optimizer.state_dict()\n",
        "        }\n",
        "        \n",
        "        torch.save(checkpoint, check_point_name)\n",
        "        torch.save(loss_epoch_train, 'loss_epoch_train')\n",
        "        torch.save(loss_epoch_val,'loss_epoch_val')\n",
        "        torch.save(acc_epoch_train,'acc_epoch_train')\n",
        "        torch.save(acc_epoch_val,'acc_epoch_val')\n",
        "    \n",
        "    av_loss = np.mean(val_loss)\n",
        "    av_acc = np.mean(val_acc)\n",
        "    loss_epoch_val.append(av_loss)\n",
        "    acc_epoch_val.append(av_acc)\n",
        "    \n",
        "    \n",
        "print(\"Best Epoch: \",best_epoch, \"Best Acc: \", best_acc)"
      ],
      "execution_count": 0,
      "outputs": [
        {
          "output_type": "stream",
          "text": [
            "TRAIN Epoch [0]: [0/525]  Loss: [0.6741]; Accuracy: [0.5]\n",
            "TRAIN Epoch [0]: [14/525]  Loss: [0.7416]; Accuracy: [0.375]\n",
            "TRAIN Epoch [0]: [28/525]  Loss: [0.6531]; Accuracy: [0.6875]\n",
            "TRAIN Epoch [0]: [42/525]  Loss: [0.6228]; Accuracy: [0.6875]\n",
            "TRAIN Epoch [0]: [56/525]  Loss: [0.6212]; Accuracy: [0.75]\n",
            "TRAIN Epoch [0]: [70/525]  Loss: [0.7024]; Accuracy: [0.5625]\n",
            "TRAIN Epoch [0]: [84/525]  Loss: [0.6403]; Accuracy: [0.75]\n",
            "TRAIN Epoch [0]: [98/525]  Loss: [0.7317]; Accuracy: [0.375]\n",
            "TRAIN Epoch [0]: [112/525]  Loss: [0.5835]; Accuracy: [0.6875]\n",
            "TRAIN Epoch [0]: [126/525]  Loss: [0.6725]; Accuracy: [0.5625]\n",
            "TRAIN Epoch [0]: [140/525]  Loss: [0.6553]; Accuracy: [0.625]\n",
            "TRAIN Epoch [0]: [154/525]  Loss: [0.6797]; Accuracy: [0.5625]\n",
            "TRAIN Epoch [0]: [168/525]  Loss: [0.6008]; Accuracy: [0.6875]\n",
            "TRAIN Epoch [0]: [182/525]  Loss: [0.7259]; Accuracy: [0.4375]\n",
            "TRAIN Epoch [0]: [196/525]  Loss: [0.6802]; Accuracy: [0.4375]\n",
            "TRAIN Epoch [0]: [210/525]  Loss: [0.7740]; Accuracy: [0.5625]\n",
            "TRAIN Epoch [0]: [224/525]  Loss: [0.6953]; Accuracy: [0.5625]\n",
            "TRAIN Epoch [0]: [238/525]  Loss: [0.6470]; Accuracy: [0.625]\n",
            "TRAIN Epoch [0]: [252/525]  Loss: [0.6097]; Accuracy: [0.875]\n",
            "TRAIN Epoch [0]: [266/525]  Loss: [0.6212]; Accuracy: [0.5625]\n",
            "TRAIN Epoch [0]: [280/525]  Loss: [0.6225]; Accuracy: [0.6875]\n",
            "TRAIN Epoch [0]: [294/525]  Loss: [0.5959]; Accuracy: [0.6875]\n",
            "TRAIN Epoch [0]: [308/525]  Loss: [0.5275]; Accuracy: [0.8125]\n",
            "TRAIN Epoch [0]: [322/525]  Loss: [0.6418]; Accuracy: [0.5625]\n",
            "TRAIN Epoch [0]: [336/525]  Loss: [0.5600]; Accuracy: [0.8125]\n",
            "TRAIN Epoch [0]: [350/525]  Loss: [0.7265]; Accuracy: [0.4375]\n",
            "TRAIN Epoch [0]: [364/525]  Loss: [0.6171]; Accuracy: [0.6875]\n",
            "TRAIN Epoch [0]: [378/525]  Loss: [0.6288]; Accuracy: [0.625]\n",
            "TRAIN Epoch [0]: [392/525]  Loss: [0.5862]; Accuracy: [0.6875]\n",
            "TRAIN Epoch [0]: [406/525]  Loss: [0.6949]; Accuracy: [0.625]\n",
            "TRAIN Epoch [0]: [420/525]  Loss: [0.6745]; Accuracy: [0.4375]\n",
            "TRAIN Epoch [0]: [434/525]  Loss: [0.7357]; Accuracy: [0.5]\n",
            "TRAIN Epoch [0]: [448/525]  Loss: [0.5655]; Accuracy: [0.6875]\n",
            "TRAIN Epoch [0]: [462/525]  Loss: [0.7634]; Accuracy: [0.4375]\n",
            "TRAIN Epoch [0]: [476/525]  Loss: [0.7097]; Accuracy: [0.75]\n",
            "TRAIN Epoch [0]: [490/525]  Loss: [0.7130]; Accuracy: [0.5]\n",
            "TRAIN Epoch [0]: [504/525]  Loss: [0.7631]; Accuracy: [0.5]\n",
            "TRAIN Epoch [0]: [518/525]  Loss: [0.7163]; Accuracy: [0.5625]\n"
          ],
          "name": "stdout"
        }
      ]
    },
    {
      "cell_type": "code",
      "metadata": {
        "id": "aewz-ecTtxG8",
        "colab_type": "code",
        "outputId": "bf6d0c99-a9ce-4fc7-cfb9-5759e565a731",
        "colab": {
          "base_uri": "https://localhost:8080/",
          "height": 295
        }
      },
      "source": [
        "import matplotlib.pyplot as plt\n",
        "epochs = range(1, len(loss_epoch_train) + 1)\n",
        "# b is for \"solid blue line\"\n",
        "plt.plot(epochs, loss_epoch_train, 'b', label='Training loss')\n",
        "# r is for \"solid red line\"\n",
        "plt.plot(epochs, loss_epoch_val, 'r', label='Validation loss')\n",
        "plt.title('Training and validation loss')\n",
        "plt.xlabel('Epochs')\n",
        "plt.ylabel('Loss')\n",
        "plt.legend()\n",
        "#plt.savefig('train_val_loss.png')\n",
        "plt.clf()\n",
        "plt.show()\n",
        "\n",
        "epochs = range(1, len(acc_epoch_train) + 1)\n",
        "# b is for \"solid blue line\"\n",
        "plt.plot(epochs, acc_epoch_train, 'b', label='Training accuracy')\n",
        "# r is for \"solid red line\"\n",
        "plt.plot(epochs, acc_epoch_val, 'r', label='Validation accuracy')\n",
        "plt.title('Training and validation accuracy')\n",
        "plt.xlabel('Epochs')\n",
        "plt.ylabel('Accuracy')\n",
        "plt.legend()\n",
        "#plt.savefig('train_val_acc.png')\n",
        "plt.show()"
      ],
      "execution_count": 0,
      "outputs": [
        {
          "output_type": "display_data",
          "data": {
            "image/png": "[encoded data removed]",
            "text/plain": [
              "<Figure size 432x288 with 1 Axes>"
            ]
          },
          "metadata": {
            "tags": []
          }
        }
      ]
    },
    {
      "cell_type": "code",
      "metadata": {
        "id": "SGt1wF0Duthz",
        "colab_type": "code",
        "outputId": "fdb2b838-6a94-4b64-e4ac-1a487ae8e208",
        "colab": {
          "base_uri": "https://localhost:8080/",
          "height": 34
        }
      },
      "source": [
        "cd /content/gdrive/My\\ Drive"
      ],
      "execution_count": 0,
      "outputs": [
        {
          "output_type": "stream",
          "text": [
            "/content/gdrive/My Drive\n"
          ],
          "name": "stdout"
        }
      ]
    },
    {
      "cell_type": "code",
      "metadata": {
        "id": "HmFESr8o0Yax",
        "colab_type": "code",
        "colab": {}
      },
      "source": [
        "cp  -r /content/weights ./"
      ],
      "execution_count": 0,
      "outputs": []
    },
    {
      "cell_type": "code",
      "metadata": {
        "id": "5FTS0oi4uuU2",
        "colab_type": "code",
        "colab": {}
      },
      "source": [
        "!chmod 777 gdrive Train_val_loss_acc.png"
      ],
      "execution_count": 0,
      "outputs": []
    }
  ]
}